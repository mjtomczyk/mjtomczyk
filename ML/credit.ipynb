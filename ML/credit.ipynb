{
  "nbformat": 4,
  "nbformat_minor": 0,
  "metadata": {
    "colab": {
      "provenance": [],
      "authorship_tag": "ABX9TyMSiAHoBcvG2s3BMjDAKLAu",
      "include_colab_link": true
    },
    "kernelspec": {
      "name": "python3",
      "display_name": "Python 3"
    },
    "language_info": {
      "name": "python"
    }
  },
  "cells": [
    {
      "cell_type": "markdown",
      "metadata": {
        "id": "view-in-github",
        "colab_type": "text"
      },
      "source": [
        "<a href=\"https://colab.research.google.com/github/mjtomczyk/mjtomczyk/blob/main/ML/credit.ipynb\" target=\"_parent\"><img src=\"https://colab.research.google.com/assets/colab-badge.svg\" alt=\"Open In Colab\"/></a>"
      ]
    },
    {
      "cell_type": "markdown",
      "source": [
        "<br/>\n",
        "<br/>\n",
        "\n",
        "# <center> **Opis zadania** <center/>\n",
        "\n",
        "## **_Wprowadzenie_**\n",
        "\n",
        "Duża konkurencja i presja na zmniejszenie marż kredytowych przy jednoczesnej obawie, o jakość portfela kredytowego oraz nowe regulacje ostrożnościowe zmusiły instytucje finansowe do weryfikacji modeli scoringowych oraz procedur kredytowych.\n",
        "Jako konsultant zatrudniony w firmie doradczej przydzielono Ci zadanie przeanalizowania danych oraz zbudowania modelu scoringowego klientów detalicznych dla banku „Miły Kredyt”.\n",
        "\n",
        "Miły Kredyt prowadzi działalność w zakresie usług finansowych. Oferta banku skierowana jest przede wszystkim do klientów detalicznych, obejmuje jednak również propozycje dla podmiotów gospodarczych. Silna pozycja rynkowa jest efektem wieloletniej pracy w dziedzinie sprzedaży ratalnej. Wysoka dynamika sprzedaży już od wielu lat zapewnia bankowi czołowe miejsce na liście najlepiej rozwijających się banków detalicznych w Polsce.\n",
        "\n",
        "Po przeprowadzonej analizie spółka Miły Kredyt stwierdziła, że 30% liczby kredytów przestało być spłacanych. W związku z tym uznano, że funkcjonujący dotychczas model nie działa poprawnie oraz zdecydowano się na wsparcie firmy zewnętrznej w celu budowy nowego modelu.\n",
        "\n",
        "## **_Zadania_**\n",
        "Twoim zadaniem jest przygotowanie prezentacji w języku angielskim dla Zarządu spółki Miły Kredyt, ponieważ część członków Zarządu nie posługuje się językiem polskim.\n",
        "\n",
        "Prezentacja powinna przedstawiać wyniki i wnioski z następujących etapów:\n",
        "1. Porównanie czterech wybranych typów modeli scoringowych klienta (np. różne rodzaje\n",
        "regresji, analiza dyskryminacyjna) biorąc pod uwagę ich wady, zalety, złożoność\n",
        "implementacji a także adekwatność dla portfela detalicznego.\n",
        "2. Analiza struktury i jakości danych historycznych.\n",
        "3. Budowa wybranego modelu (w oparciu o analizę przeprowadzoną w punkcie pierwszym)\n",
        "wraz z opisem procesu i kroków, które doprowadziły do powstania modelu.\n",
        "4. Walidacja modelu i backtesting.\n",
        "5. Opracowanie schematu aplikacji wyników do procesu biznesowego (scoru).\n",
        "6. Wnioski.\n",
        "7. Bibliografia (materiały, na podstawie, których został opracowany model).\n",
        "Zarząd zażyczył sobie również raport lub plik z obliczeniami dotyczącymi budowy modelu i sprawdzenia danych (w przypadku, gdy do obliczeń zostanie użyty Excel lub inny ogólnodostępny program obliczeniowy, np. R może to być raport w postaci pliku Word lub plik z obliczeniami, w pozostałych przypadkach powinien to być raport w postaci pliku Word).\n",
        "\n",
        "## **_Charakterystyka danych_**\n",
        "Miły Kredyt udostępnił historyczną bazę danych swoich kredytobiorców. Baza została przekazana w formie arkusza kalkulacyjnego Excel, w którym znajdują się dwie zakładki: pierwsza z danymi oraz druga z opisami zmiennych i wartościami, jakie mogą przyjmować poszczególne zmienne. Dane obejmują 1.000 kredytów, które rok temu były w portfelu banku, część z nich przestała być terminowo spłacana. Oprócz informacji o tym czy kredyt jest spłacany, w bazie znajduje się dwadzieścia innych zmiennych charakteryzujących kredytobiorcę. W związku z ustawą o ochronie danych osobowych dane personalne klientów nie zostały załączone.\n"
      ],
      "metadata": {
        "id": "UFU80BDx1jp2"
      }
    },
    {
      "cell_type": "code",
      "execution_count": null,
      "metadata": {
        "id": "L8ujPRkQjXVZ"
      },
      "outputs": [],
      "source": [
        "import pandas as pd"
      ]
    },
    {
      "cell_type": "code",
      "source": [
        "from google.colab import drive \n",
        "drive.mount('/content/gdrive')"
      ],
      "metadata": {
        "colab": {
          "base_uri": "https://localhost:8080/"
        },
        "id": "GfLkaG-ElUZU",
        "outputId": "b898c2db-8aa5-477d-9f4e-d39de3db8505"
      },
      "execution_count": null,
      "outputs": [
        {
          "output_type": "stream",
          "name": "stdout",
          "text": [
            "Drive already mounted at /content/gdrive; to attempt to forcibly remount, call drive.mount(\"/content/gdrive\", force_remount=True).\n"
          ]
        }
      ]
    },
    {
      "cell_type": "code",
      "source": [
        "credit = pd.read_csv('gdrive/My Drive/credit.csv')"
      ],
      "metadata": {
        "id": "scPK9mKzlftk"
      },
      "execution_count": null,
      "outputs": []
    },
    {
      "cell_type": "code",
      "source": [
        "credit.head()"
      ],
      "metadata": {
        "colab": {
          "base_uri": "https://localhost:8080/",
          "height": 235
        },
        "id": "gYxQbm5Rlfw4",
        "outputId": "e42a8828-f36f-4fbb-b34b-7d0c961ed30c"
      },
      "execution_count": null,
      "outputs": [
        {
          "output_type": "execute_result",
          "data": {
            "text/plain": [
              "   default  balance  duration  prev_pay  purpose  credit  savings  cur_emp  \\\n",
              "0        1        1         8         4        2       8        1        2   \n",
              "1        1        1         9         4        0       6        1        3   \n",
              "2        1        2         9         2        9       9        2        4   \n",
              "3        1        1         9         4        0       7        1        3   \n",
              "4        1        1         9         4        0       7        1        3   \n",
              "\n",
              "   rate  ms/s  ...  liv_plac  asset  age  fur_cred  home  no_cred  occupation  \\\n",
              "0     4     1  ...         4      2    1         3     1        1           3   \n",
              "1     2     3  ...         2      1    2         3     1        2           3   \n",
              "2     2     2  ...         4      1    1         3     1        1           2   \n",
              "3     3     3  ...         2      1    2         3     1        2           2   \n",
              "4     4     3  ...         4      2    2         1     2        2           2   \n",
              "\n",
              "   people  telephone  frgn  \n",
              "0       1          0     1  \n",
              "1       2          0     1  \n",
              "2       1          0     1  \n",
              "3       2          0     0  \n",
              "4       1          0     0  \n",
              "\n",
              "[5 rows x 21 columns]"
            ],
            "text/html": [
              "\n",
              "  <div id=\"df-eed20abf-9f36-4a45-ab68-ebc64dbeaaf9\">\n",
              "    <div class=\"colab-df-container\">\n",
              "      <div>\n",
              "<style scoped>\n",
              "    .dataframe tbody tr th:only-of-type {\n",
              "        vertical-align: middle;\n",
              "    }\n",
              "\n",
              "    .dataframe tbody tr th {\n",
              "        vertical-align: top;\n",
              "    }\n",
              "\n",
              "    .dataframe thead th {\n",
              "        text-align: right;\n",
              "    }\n",
              "</style>\n",
              "<table border=\"1\" class=\"dataframe\">\n",
              "  <thead>\n",
              "    <tr style=\"text-align: right;\">\n",
              "      <th></th>\n",
              "      <th>default</th>\n",
              "      <th>balance</th>\n",
              "      <th>duration</th>\n",
              "      <th>prev_pay</th>\n",
              "      <th>purpose</th>\n",
              "      <th>credit</th>\n",
              "      <th>savings</th>\n",
              "      <th>cur_emp</th>\n",
              "      <th>rate</th>\n",
              "      <th>ms/s</th>\n",
              "      <th>...</th>\n",
              "      <th>liv_plac</th>\n",
              "      <th>asset</th>\n",
              "      <th>age</th>\n",
              "      <th>fur_cred</th>\n",
              "      <th>home</th>\n",
              "      <th>no_cred</th>\n",
              "      <th>occupation</th>\n",
              "      <th>people</th>\n",
              "      <th>telephone</th>\n",
              "      <th>frgn</th>\n",
              "    </tr>\n",
              "  </thead>\n",
              "  <tbody>\n",
              "    <tr>\n",
              "      <th>0</th>\n",
              "      <td>1</td>\n",
              "      <td>1</td>\n",
              "      <td>8</td>\n",
              "      <td>4</td>\n",
              "      <td>2</td>\n",
              "      <td>8</td>\n",
              "      <td>1</td>\n",
              "      <td>2</td>\n",
              "      <td>4</td>\n",
              "      <td>1</td>\n",
              "      <td>...</td>\n",
              "      <td>4</td>\n",
              "      <td>2</td>\n",
              "      <td>1</td>\n",
              "      <td>3</td>\n",
              "      <td>1</td>\n",
              "      <td>1</td>\n",
              "      <td>3</td>\n",
              "      <td>1</td>\n",
              "      <td>0</td>\n",
              "      <td>1</td>\n",
              "    </tr>\n",
              "    <tr>\n",
              "      <th>1</th>\n",
              "      <td>1</td>\n",
              "      <td>1</td>\n",
              "      <td>9</td>\n",
              "      <td>4</td>\n",
              "      <td>0</td>\n",
              "      <td>6</td>\n",
              "      <td>1</td>\n",
              "      <td>3</td>\n",
              "      <td>2</td>\n",
              "      <td>3</td>\n",
              "      <td>...</td>\n",
              "      <td>2</td>\n",
              "      <td>1</td>\n",
              "      <td>2</td>\n",
              "      <td>3</td>\n",
              "      <td>1</td>\n",
              "      <td>2</td>\n",
              "      <td>3</td>\n",
              "      <td>2</td>\n",
              "      <td>0</td>\n",
              "      <td>1</td>\n",
              "    </tr>\n",
              "    <tr>\n",
              "      <th>2</th>\n",
              "      <td>1</td>\n",
              "      <td>2</td>\n",
              "      <td>9</td>\n",
              "      <td>2</td>\n",
              "      <td>9</td>\n",
              "      <td>9</td>\n",
              "      <td>2</td>\n",
              "      <td>4</td>\n",
              "      <td>2</td>\n",
              "      <td>2</td>\n",
              "      <td>...</td>\n",
              "      <td>4</td>\n",
              "      <td>1</td>\n",
              "      <td>1</td>\n",
              "      <td>3</td>\n",
              "      <td>1</td>\n",
              "      <td>1</td>\n",
              "      <td>2</td>\n",
              "      <td>1</td>\n",
              "      <td>0</td>\n",
              "      <td>1</td>\n",
              "    </tr>\n",
              "    <tr>\n",
              "      <th>3</th>\n",
              "      <td>1</td>\n",
              "      <td>1</td>\n",
              "      <td>9</td>\n",
              "      <td>4</td>\n",
              "      <td>0</td>\n",
              "      <td>7</td>\n",
              "      <td>1</td>\n",
              "      <td>3</td>\n",
              "      <td>3</td>\n",
              "      <td>3</td>\n",
              "      <td>...</td>\n",
              "      <td>2</td>\n",
              "      <td>1</td>\n",
              "      <td>2</td>\n",
              "      <td>3</td>\n",
              "      <td>1</td>\n",
              "      <td>2</td>\n",
              "      <td>2</td>\n",
              "      <td>2</td>\n",
              "      <td>0</td>\n",
              "      <td>0</td>\n",
              "    </tr>\n",
              "    <tr>\n",
              "      <th>4</th>\n",
              "      <td>1</td>\n",
              "      <td>1</td>\n",
              "      <td>9</td>\n",
              "      <td>4</td>\n",
              "      <td>0</td>\n",
              "      <td>7</td>\n",
              "      <td>1</td>\n",
              "      <td>3</td>\n",
              "      <td>4</td>\n",
              "      <td>3</td>\n",
              "      <td>...</td>\n",
              "      <td>4</td>\n",
              "      <td>2</td>\n",
              "      <td>2</td>\n",
              "      <td>1</td>\n",
              "      <td>2</td>\n",
              "      <td>2</td>\n",
              "      <td>2</td>\n",
              "      <td>1</td>\n",
              "      <td>0</td>\n",
              "      <td>0</td>\n",
              "    </tr>\n",
              "  </tbody>\n",
              "</table>\n",
              "<p>5 rows × 21 columns</p>\n",
              "</div>\n",
              "      <button class=\"colab-df-convert\" onclick=\"convertToInteractive('df-eed20abf-9f36-4a45-ab68-ebc64dbeaaf9')\"\n",
              "              title=\"Convert this dataframe to an interactive table.\"\n",
              "              style=\"display:none;\">\n",
              "        \n",
              "  <svg xmlns=\"http://www.w3.org/2000/svg\" height=\"24px\"viewBox=\"0 0 24 24\"\n",
              "       width=\"24px\">\n",
              "    <path d=\"M0 0h24v24H0V0z\" fill=\"none\"/>\n",
              "    <path d=\"M18.56 5.44l.94 2.06.94-2.06 2.06-.94-2.06-.94-.94-2.06-.94 2.06-2.06.94zm-11 1L8.5 8.5l.94-2.06 2.06-.94-2.06-.94L8.5 2.5l-.94 2.06-2.06.94zm10 10l.94 2.06.94-2.06 2.06-.94-2.06-.94-.94-2.06-.94 2.06-2.06.94z\"/><path d=\"M17.41 7.96l-1.37-1.37c-.4-.4-.92-.59-1.43-.59-.52 0-1.04.2-1.43.59L10.3 9.45l-7.72 7.72c-.78.78-.78 2.05 0 2.83L4 21.41c.39.39.9.59 1.41.59.51 0 1.02-.2 1.41-.59l7.78-7.78 2.81-2.81c.8-.78.8-2.07 0-2.86zM5.41 20L4 18.59l7.72-7.72 1.47 1.35L5.41 20z\"/>\n",
              "  </svg>\n",
              "      </button>\n",
              "      \n",
              "  <style>\n",
              "    .colab-df-container {\n",
              "      display:flex;\n",
              "      flex-wrap:wrap;\n",
              "      gap: 12px;\n",
              "    }\n",
              "\n",
              "    .colab-df-convert {\n",
              "      background-color: #E8F0FE;\n",
              "      border: none;\n",
              "      border-radius: 50%;\n",
              "      cursor: pointer;\n",
              "      display: none;\n",
              "      fill: #1967D2;\n",
              "      height: 32px;\n",
              "      padding: 0 0 0 0;\n",
              "      width: 32px;\n",
              "    }\n",
              "\n",
              "    .colab-df-convert:hover {\n",
              "      background-color: #E2EBFA;\n",
              "      box-shadow: 0px 1px 2px rgba(60, 64, 67, 0.3), 0px 1px 3px 1px rgba(60, 64, 67, 0.15);\n",
              "      fill: #174EA6;\n",
              "    }\n",
              "\n",
              "    [theme=dark] .colab-df-convert {\n",
              "      background-color: #3B4455;\n",
              "      fill: #D2E3FC;\n",
              "    }\n",
              "\n",
              "    [theme=dark] .colab-df-convert:hover {\n",
              "      background-color: #434B5C;\n",
              "      box-shadow: 0px 1px 3px 1px rgba(0, 0, 0, 0.15);\n",
              "      filter: drop-shadow(0px 1px 2px rgba(0, 0, 0, 0.3));\n",
              "      fill: #FFFFFF;\n",
              "    }\n",
              "  </style>\n",
              "\n",
              "      <script>\n",
              "        const buttonEl =\n",
              "          document.querySelector('#df-eed20abf-9f36-4a45-ab68-ebc64dbeaaf9 button.colab-df-convert');\n",
              "        buttonEl.style.display =\n",
              "          google.colab.kernel.accessAllowed ? 'block' : 'none';\n",
              "\n",
              "        async function convertToInteractive(key) {\n",
              "          const element = document.querySelector('#df-eed20abf-9f36-4a45-ab68-ebc64dbeaaf9');\n",
              "          const dataTable =\n",
              "            await google.colab.kernel.invokeFunction('convertToInteractive',\n",
              "                                                     [key], {});\n",
              "          if (!dataTable) return;\n",
              "\n",
              "          const docLinkHtml = 'Like what you see? Visit the ' +\n",
              "            '<a target=\"_blank\" href=https://colab.research.google.com/notebooks/data_table.ipynb>data table notebook</a>'\n",
              "            + ' to learn more about interactive tables.';\n",
              "          element.innerHTML = '';\n",
              "          dataTable['output_type'] = 'display_data';\n",
              "          await google.colab.output.renderOutput(dataTable, element);\n",
              "          const docLink = document.createElement('div');\n",
              "          docLink.innerHTML = docLinkHtml;\n",
              "          element.appendChild(docLink);\n",
              "        }\n",
              "      </script>\n",
              "    </div>\n",
              "  </div>\n",
              "  "
            ]
          },
          "metadata": {},
          "execution_count": 48
        }
      ]
    },
    {
      "cell_type": "code",
      "source": [
        "credit.info()"
      ],
      "metadata": {
        "colab": {
          "base_uri": "https://localhost:8080/"
        },
        "id": "EKQzzfB9lf0K",
        "outputId": "8df7fa66-c25f-49b2-8daf-3f87f30f9178"
      },
      "execution_count": null,
      "outputs": [
        {
          "output_type": "stream",
          "name": "stdout",
          "text": [
            "<class 'pandas.core.frame.DataFrame'>\n",
            "RangeIndex: 1000 entries, 0 to 999\n",
            "Data columns (total 21 columns):\n",
            " #   Column      Non-Null Count  Dtype\n",
            "---  ------      --------------  -----\n",
            " 0   default     1000 non-null   int64\n",
            " 1   balance     1000 non-null   int64\n",
            " 2   duration    1000 non-null   int64\n",
            " 3   prev_pay    1000 non-null   int64\n",
            " 4   purpose     1000 non-null   int64\n",
            " 5   credit      1000 non-null   int64\n",
            " 6   savings     1000 non-null   int64\n",
            " 7   cur_emp     1000 non-null   int64\n",
            " 8   rate        1000 non-null   int64\n",
            " 9   ms/s        1000 non-null   int64\n",
            " 10  guarantors  1000 non-null   int64\n",
            " 11  liv_plac    1000 non-null   int64\n",
            " 12  asset       1000 non-null   int64\n",
            " 13  age         1000 non-null   int64\n",
            " 14  fur_cred    1000 non-null   int64\n",
            " 15  home        1000 non-null   int64\n",
            " 16  no_cred     1000 non-null   int64\n",
            " 17  occupation  1000 non-null   int64\n",
            " 18  people      1000 non-null   int64\n",
            " 19  telephone   1000 non-null   int64\n",
            " 20  frgn        1000 non-null   int64\n",
            "dtypes: int64(21)\n",
            "memory usage: 164.2 KB\n"
          ]
        }
      ]
    },
    {
      "cell_type": "code",
      "source": [
        "credit.describe()"
      ],
      "metadata": {
        "colab": {
          "base_uri": "https://localhost:8080/",
          "height": 394
        },
        "id": "jVqUJiBtlf3u",
        "outputId": "3fd3a845-3846-44a7-c635-d83bb6023170"
      },
      "execution_count": null,
      "outputs": [
        {
          "output_type": "execute_result",
          "data": {
            "text/plain": [
              "           default      balance     duration    prev_pay      purpose  \\\n",
              "count  1000.000000  1000.000000  1000.000000  1000.00000  1000.000000   \n",
              "mean      0.700000     2.577000     7.315000     2.54500     2.828000   \n",
              "std       0.458487     1.257638     1.870635     1.08312     2.744439   \n",
              "min       0.000000     1.000000     1.000000     0.00000     0.000000   \n",
              "25%       0.000000     1.000000     7.000000     2.00000     1.000000   \n",
              "50%       1.000000     2.000000     8.000000     2.00000     2.000000   \n",
              "75%       1.000000     4.000000     9.000000     4.00000     3.000000   \n",
              "max       1.000000     4.000000     9.000000     4.00000    10.000000   \n",
              "\n",
              "            credit      savings      cur_emp         rate        ms/s  ...  \\\n",
              "count  1000.000000  1000.000000  1000.000000  1000.000000  1000.00000  ...   \n",
              "mean      6.640000     2.105000     3.384000     2.973000     2.46400  ...   \n",
              "std       1.519444     1.580023     1.208306     1.118715     0.98472  ...   \n",
              "min       2.000000     1.000000     1.000000     1.000000     1.00000  ...   \n",
              "25%       6.000000     1.000000     3.000000     2.000000     1.00000  ...   \n",
              "50%       7.000000     1.000000     3.000000     3.000000     3.00000  ...   \n",
              "75%       8.000000     3.000000     5.000000     4.000000     3.00000  ...   \n",
              "max       9.000000     5.000000     5.000000     4.000000     4.00000  ...   \n",
              "\n",
              "          liv_plac        asset         age     fur_cred         home  \\\n",
              "count  1000.000000  1000.000000  1000.00000  1000.000000  1000.000000   \n",
              "mean      2.845000     2.358000     2.18300     2.675000     1.928000   \n",
              "std       1.103718     1.050209     0.85102     0.705601     0.530186   \n",
              "min       1.000000     1.000000     1.00000     1.000000     1.000000   \n",
              "25%       2.000000     1.000000     2.00000     3.000000     2.000000   \n",
              "50%       3.000000     2.000000     2.00000     3.000000     2.000000   \n",
              "75%       4.000000     3.000000     3.00000     3.000000     2.000000   \n",
              "max       4.000000     4.000000     5.00000     3.000000     3.000000   \n",
              "\n",
              "           no_cred   occupation       people    telephone         frgn  \n",
              "count  1000.000000  1000.000000  1000.000000  1000.000000  1000.000000  \n",
              "mean      1.407000     2.904000     1.155000     0.404000     0.963000  \n",
              "std       0.577654     0.653614     0.362086     0.490943     0.188856  \n",
              "min       1.000000     1.000000     1.000000     0.000000     0.000000  \n",
              "25%       1.000000     3.000000     1.000000     0.000000     1.000000  \n",
              "50%       1.000000     3.000000     1.000000     0.000000     1.000000  \n",
              "75%       2.000000     3.000000     1.000000     1.000000     1.000000  \n",
              "max       4.000000     4.000000     2.000000     1.000000     1.000000  \n",
              "\n",
              "[8 rows x 21 columns]"
            ],
            "text/html": [
              "\n",
              "  <div id=\"df-ba15c419-9120-40d8-a205-fdcbc5d86db2\">\n",
              "    <div class=\"colab-df-container\">\n",
              "      <div>\n",
              "<style scoped>\n",
              "    .dataframe tbody tr th:only-of-type {\n",
              "        vertical-align: middle;\n",
              "    }\n",
              "\n",
              "    .dataframe tbody tr th {\n",
              "        vertical-align: top;\n",
              "    }\n",
              "\n",
              "    .dataframe thead th {\n",
              "        text-align: right;\n",
              "    }\n",
              "</style>\n",
              "<table border=\"1\" class=\"dataframe\">\n",
              "  <thead>\n",
              "    <tr style=\"text-align: right;\">\n",
              "      <th></th>\n",
              "      <th>default</th>\n",
              "      <th>balance</th>\n",
              "      <th>duration</th>\n",
              "      <th>prev_pay</th>\n",
              "      <th>purpose</th>\n",
              "      <th>credit</th>\n",
              "      <th>savings</th>\n",
              "      <th>cur_emp</th>\n",
              "      <th>rate</th>\n",
              "      <th>ms/s</th>\n",
              "      <th>...</th>\n",
              "      <th>liv_plac</th>\n",
              "      <th>asset</th>\n",
              "      <th>age</th>\n",
              "      <th>fur_cred</th>\n",
              "      <th>home</th>\n",
              "      <th>no_cred</th>\n",
              "      <th>occupation</th>\n",
              "      <th>people</th>\n",
              "      <th>telephone</th>\n",
              "      <th>frgn</th>\n",
              "    </tr>\n",
              "  </thead>\n",
              "  <tbody>\n",
              "    <tr>\n",
              "      <th>count</th>\n",
              "      <td>1000.000000</td>\n",
              "      <td>1000.000000</td>\n",
              "      <td>1000.000000</td>\n",
              "      <td>1000.00000</td>\n",
              "      <td>1000.000000</td>\n",
              "      <td>1000.000000</td>\n",
              "      <td>1000.000000</td>\n",
              "      <td>1000.000000</td>\n",
              "      <td>1000.000000</td>\n",
              "      <td>1000.00000</td>\n",
              "      <td>...</td>\n",
              "      <td>1000.000000</td>\n",
              "      <td>1000.000000</td>\n",
              "      <td>1000.00000</td>\n",
              "      <td>1000.000000</td>\n",
              "      <td>1000.000000</td>\n",
              "      <td>1000.000000</td>\n",
              "      <td>1000.000000</td>\n",
              "      <td>1000.000000</td>\n",
              "      <td>1000.000000</td>\n",
              "      <td>1000.000000</td>\n",
              "    </tr>\n",
              "    <tr>\n",
              "      <th>mean</th>\n",
              "      <td>0.700000</td>\n",
              "      <td>2.577000</td>\n",
              "      <td>7.315000</td>\n",
              "      <td>2.54500</td>\n",
              "      <td>2.828000</td>\n",
              "      <td>6.640000</td>\n",
              "      <td>2.105000</td>\n",
              "      <td>3.384000</td>\n",
              "      <td>2.973000</td>\n",
              "      <td>2.46400</td>\n",
              "      <td>...</td>\n",
              "      <td>2.845000</td>\n",
              "      <td>2.358000</td>\n",
              "      <td>2.18300</td>\n",
              "      <td>2.675000</td>\n",
              "      <td>1.928000</td>\n",
              "      <td>1.407000</td>\n",
              "      <td>2.904000</td>\n",
              "      <td>1.155000</td>\n",
              "      <td>0.404000</td>\n",
              "      <td>0.963000</td>\n",
              "    </tr>\n",
              "    <tr>\n",
              "      <th>std</th>\n",
              "      <td>0.458487</td>\n",
              "      <td>1.257638</td>\n",
              "      <td>1.870635</td>\n",
              "      <td>1.08312</td>\n",
              "      <td>2.744439</td>\n",
              "      <td>1.519444</td>\n",
              "      <td>1.580023</td>\n",
              "      <td>1.208306</td>\n",
              "      <td>1.118715</td>\n",
              "      <td>0.98472</td>\n",
              "      <td>...</td>\n",
              "      <td>1.103718</td>\n",
              "      <td>1.050209</td>\n",
              "      <td>0.85102</td>\n",
              "      <td>0.705601</td>\n",
              "      <td>0.530186</td>\n",
              "      <td>0.577654</td>\n",
              "      <td>0.653614</td>\n",
              "      <td>0.362086</td>\n",
              "      <td>0.490943</td>\n",
              "      <td>0.188856</td>\n",
              "    </tr>\n",
              "    <tr>\n",
              "      <th>min</th>\n",
              "      <td>0.000000</td>\n",
              "      <td>1.000000</td>\n",
              "      <td>1.000000</td>\n",
              "      <td>0.00000</td>\n",
              "      <td>0.000000</td>\n",
              "      <td>2.000000</td>\n",
              "      <td>1.000000</td>\n",
              "      <td>1.000000</td>\n",
              "      <td>1.000000</td>\n",
              "      <td>1.00000</td>\n",
              "      <td>...</td>\n",
              "      <td>1.000000</td>\n",
              "      <td>1.000000</td>\n",
              "      <td>1.00000</td>\n",
              "      <td>1.000000</td>\n",
              "      <td>1.000000</td>\n",
              "      <td>1.000000</td>\n",
              "      <td>1.000000</td>\n",
              "      <td>1.000000</td>\n",
              "      <td>0.000000</td>\n",
              "      <td>0.000000</td>\n",
              "    </tr>\n",
              "    <tr>\n",
              "      <th>25%</th>\n",
              "      <td>0.000000</td>\n",
              "      <td>1.000000</td>\n",
              "      <td>7.000000</td>\n",
              "      <td>2.00000</td>\n",
              "      <td>1.000000</td>\n",
              "      <td>6.000000</td>\n",
              "      <td>1.000000</td>\n",
              "      <td>3.000000</td>\n",
              "      <td>2.000000</td>\n",
              "      <td>1.00000</td>\n",
              "      <td>...</td>\n",
              "      <td>2.000000</td>\n",
              "      <td>1.000000</td>\n",
              "      <td>2.00000</td>\n",
              "      <td>3.000000</td>\n",
              "      <td>2.000000</td>\n",
              "      <td>1.000000</td>\n",
              "      <td>3.000000</td>\n",
              "      <td>1.000000</td>\n",
              "      <td>0.000000</td>\n",
              "      <td>1.000000</td>\n",
              "    </tr>\n",
              "    <tr>\n",
              "      <th>50%</th>\n",
              "      <td>1.000000</td>\n",
              "      <td>2.000000</td>\n",
              "      <td>8.000000</td>\n",
              "      <td>2.00000</td>\n",
              "      <td>2.000000</td>\n",
              "      <td>7.000000</td>\n",
              "      <td>1.000000</td>\n",
              "      <td>3.000000</td>\n",
              "      <td>3.000000</td>\n",
              "      <td>3.00000</td>\n",
              "      <td>...</td>\n",
              "      <td>3.000000</td>\n",
              "      <td>2.000000</td>\n",
              "      <td>2.00000</td>\n",
              "      <td>3.000000</td>\n",
              "      <td>2.000000</td>\n",
              "      <td>1.000000</td>\n",
              "      <td>3.000000</td>\n",
              "      <td>1.000000</td>\n",
              "      <td>0.000000</td>\n",
              "      <td>1.000000</td>\n",
              "    </tr>\n",
              "    <tr>\n",
              "      <th>75%</th>\n",
              "      <td>1.000000</td>\n",
              "      <td>4.000000</td>\n",
              "      <td>9.000000</td>\n",
              "      <td>4.00000</td>\n",
              "      <td>3.000000</td>\n",
              "      <td>8.000000</td>\n",
              "      <td>3.000000</td>\n",
              "      <td>5.000000</td>\n",
              "      <td>4.000000</td>\n",
              "      <td>3.00000</td>\n",
              "      <td>...</td>\n",
              "      <td>4.000000</td>\n",
              "      <td>3.000000</td>\n",
              "      <td>3.00000</td>\n",
              "      <td>3.000000</td>\n",
              "      <td>2.000000</td>\n",
              "      <td>2.000000</td>\n",
              "      <td>3.000000</td>\n",
              "      <td>1.000000</td>\n",
              "      <td>1.000000</td>\n",
              "      <td>1.000000</td>\n",
              "    </tr>\n",
              "    <tr>\n",
              "      <th>max</th>\n",
              "      <td>1.000000</td>\n",
              "      <td>4.000000</td>\n",
              "      <td>9.000000</td>\n",
              "      <td>4.00000</td>\n",
              "      <td>10.000000</td>\n",
              "      <td>9.000000</td>\n",
              "      <td>5.000000</td>\n",
              "      <td>5.000000</td>\n",
              "      <td>4.000000</td>\n",
              "      <td>4.00000</td>\n",
              "      <td>...</td>\n",
              "      <td>4.000000</td>\n",
              "      <td>4.000000</td>\n",
              "      <td>5.00000</td>\n",
              "      <td>3.000000</td>\n",
              "      <td>3.000000</td>\n",
              "      <td>4.000000</td>\n",
              "      <td>4.000000</td>\n",
              "      <td>2.000000</td>\n",
              "      <td>1.000000</td>\n",
              "      <td>1.000000</td>\n",
              "    </tr>\n",
              "  </tbody>\n",
              "</table>\n",
              "<p>8 rows × 21 columns</p>\n",
              "</div>\n",
              "      <button class=\"colab-df-convert\" onclick=\"convertToInteractive('df-ba15c419-9120-40d8-a205-fdcbc5d86db2')\"\n",
              "              title=\"Convert this dataframe to an interactive table.\"\n",
              "              style=\"display:none;\">\n",
              "        \n",
              "  <svg xmlns=\"http://www.w3.org/2000/svg\" height=\"24px\"viewBox=\"0 0 24 24\"\n",
              "       width=\"24px\">\n",
              "    <path d=\"M0 0h24v24H0V0z\" fill=\"none\"/>\n",
              "    <path d=\"M18.56 5.44l.94 2.06.94-2.06 2.06-.94-2.06-.94-.94-2.06-.94 2.06-2.06.94zm-11 1L8.5 8.5l.94-2.06 2.06-.94-2.06-.94L8.5 2.5l-.94 2.06-2.06.94zm10 10l.94 2.06.94-2.06 2.06-.94-2.06-.94-.94-2.06-.94 2.06-2.06.94z\"/><path d=\"M17.41 7.96l-1.37-1.37c-.4-.4-.92-.59-1.43-.59-.52 0-1.04.2-1.43.59L10.3 9.45l-7.72 7.72c-.78.78-.78 2.05 0 2.83L4 21.41c.39.39.9.59 1.41.59.51 0 1.02-.2 1.41-.59l7.78-7.78 2.81-2.81c.8-.78.8-2.07 0-2.86zM5.41 20L4 18.59l7.72-7.72 1.47 1.35L5.41 20z\"/>\n",
              "  </svg>\n",
              "      </button>\n",
              "      \n",
              "  <style>\n",
              "    .colab-df-container {\n",
              "      display:flex;\n",
              "      flex-wrap:wrap;\n",
              "      gap: 12px;\n",
              "    }\n",
              "\n",
              "    .colab-df-convert {\n",
              "      background-color: #E8F0FE;\n",
              "      border: none;\n",
              "      border-radius: 50%;\n",
              "      cursor: pointer;\n",
              "      display: none;\n",
              "      fill: #1967D2;\n",
              "      height: 32px;\n",
              "      padding: 0 0 0 0;\n",
              "      width: 32px;\n",
              "    }\n",
              "\n",
              "    .colab-df-convert:hover {\n",
              "      background-color: #E2EBFA;\n",
              "      box-shadow: 0px 1px 2px rgba(60, 64, 67, 0.3), 0px 1px 3px 1px rgba(60, 64, 67, 0.15);\n",
              "      fill: #174EA6;\n",
              "    }\n",
              "\n",
              "    [theme=dark] .colab-df-convert {\n",
              "      background-color: #3B4455;\n",
              "      fill: #D2E3FC;\n",
              "    }\n",
              "\n",
              "    [theme=dark] .colab-df-convert:hover {\n",
              "      background-color: #434B5C;\n",
              "      box-shadow: 0px 1px 3px 1px rgba(0, 0, 0, 0.15);\n",
              "      filter: drop-shadow(0px 1px 2px rgba(0, 0, 0, 0.3));\n",
              "      fill: #FFFFFF;\n",
              "    }\n",
              "  </style>\n",
              "\n",
              "      <script>\n",
              "        const buttonEl =\n",
              "          document.querySelector('#df-ba15c419-9120-40d8-a205-fdcbc5d86db2 button.colab-df-convert');\n",
              "        buttonEl.style.display =\n",
              "          google.colab.kernel.accessAllowed ? 'block' : 'none';\n",
              "\n",
              "        async function convertToInteractive(key) {\n",
              "          const element = document.querySelector('#df-ba15c419-9120-40d8-a205-fdcbc5d86db2');\n",
              "          const dataTable =\n",
              "            await google.colab.kernel.invokeFunction('convertToInteractive',\n",
              "                                                     [key], {});\n",
              "          if (!dataTable) return;\n",
              "\n",
              "          const docLinkHtml = 'Like what you see? Visit the ' +\n",
              "            '<a target=\"_blank\" href=https://colab.research.google.com/notebooks/data_table.ipynb>data table notebook</a>'\n",
              "            + ' to learn more about interactive tables.';\n",
              "          element.innerHTML = '';\n",
              "          dataTable['output_type'] = 'display_data';\n",
              "          await google.colab.output.renderOutput(dataTable, element);\n",
              "          const docLink = document.createElement('div');\n",
              "          docLink.innerHTML = docLinkHtml;\n",
              "          element.appendChild(docLink);\n",
              "        }\n",
              "      </script>\n",
              "    </div>\n",
              "  </div>\n",
              "  "
            ]
          },
          "metadata": {},
          "execution_count": 50
        }
      ]
    },
    {
      "cell_type": "markdown",
      "source": [
        "Wszystkie zmienne to zmienne kategoryczne. Dla niektórych zmiennych tj. telephone i frgn kategorie zostały zmienione z użyciem binarnego atrybutu (1 - true, 0 - false) w miejce pierwotnych wartości.\n",
        "\n",
        "Trudności:\n",
        "balance - niski limit\n",
        "age - niesymetryczne dla przedziału 26-64, sugerowane przedziały <=24, 25-29,30-39, 40-49, 50-59, 60-64, >=65"
      ],
      "metadata": {
        "id": "mXEXcLavdPGT"
      }
    },
    {
      "cell_type": "code",
      "source": [
        "import matplotlib.pyplot as plt\n",
        "credit.hist(bins=50, figsize=(20,15))\n",
        "plt.show()"
      ],
      "metadata": {
        "colab": {
          "base_uri": "https://localhost:8080/",
          "height": 879
        },
        "id": "3erTYZzymUiH",
        "outputId": "419d5f28-0b58-49ca-875b-29a748c778e4"
      },
      "execution_count": null,
      "outputs": [
        {
          "output_type": "display_data",
          "data": {
            "text/plain": [
              "<Figure size 1440x1080 with 25 Axes>"
            ],
            "image/png": "[encoded data removed]"
          },
          "metadata": {
            "needs_background": "light"
          }
        }
      ]
    },
    {
      "cell_type": "code",
      "source": [
        "import numpy as np"
      ],
      "metadata": {
        "id": "lCJJh_J_mUll"
      },
      "execution_count": null,
      "outputs": []
    },
    {
      "cell_type": "code",
      "source": [
        "from sklearn.model_selection import train_test_split"
      ],
      "metadata": {
        "id": "qFOJg12AmUpQ"
      },
      "execution_count": null,
      "outputs": []
    },
    {
      "cell_type": "code",
      "source": [
        "train_set, test_set = train_test_split(credit, test_size=0.2, random_state=42)"
      ],
      "metadata": {
        "id": "Rbdiby0WmUst"
      },
      "execution_count": null,
      "outputs": []
    },
    {
      "cell_type": "code",
      "source": [
        "corr_matrix = credit.corr()"
      ],
      "metadata": {
        "id": "uTF4LKCPncGR"
      },
      "execution_count": null,
      "outputs": []
    },
    {
      "cell_type": "code",
      "source": [
        "corr_matrix[\"default\"].sort_values(ascending=False)"
      ],
      "metadata": {
        "colab": {
          "base_uri": "https://localhost:8080/"
        },
        "id": "7-QXSKqxncJX",
        "outputId": "91d9d889-25ed-4521-d34f-66e85830df06"
      },
      "execution_count": null,
      "outputs": [
        {
          "output_type": "execute_result",
          "data": {
            "text/plain": [
              "default       1.000000\n",
              "balance       0.350847\n",
              "prev_pay      0.228785\n",
              "duration      0.200163\n",
              "savings       0.178943\n",
              "cur_emp       0.116002\n",
              "fur_cred      0.109844\n",
              "credit        0.099145\n",
              "age           0.097232\n",
              "ms/s          0.066958\n",
              "no_cred       0.045732\n",
              "telephone     0.036466\n",
              "guarantors    0.025137\n",
              "home          0.018119\n",
              "people        0.003015\n",
              "liv_plac     -0.002967\n",
              "purpose      -0.017979\n",
              "occupation   -0.032735\n",
              "rate         -0.072404\n",
              "frgn         -0.082079\n",
              "asset        -0.142612\n",
              "Name: default, dtype: float64"
            ]
          },
          "metadata": {},
          "execution_count": 56
        }
      ]
    },
    {
      "cell_type": "code",
      "source": [
        "from pandas.plotting import scatter_matrix\n",
        "attributes = [\"default\", \"balance\", \"prev_pay\", \"duration\"]\n",
        "scatter_matrix(credit[attributes], figsize=(12,8))\n",
        "plt.show()"
      ],
      "metadata": {
        "colab": {
          "base_uri": "https://localhost:8080/",
          "height": 505
        },
        "id": "0bqmNnNvncC8",
        "outputId": "5a781ef1-7955-4cb8-ec08-7734bebe12dc"
      },
      "execution_count": null,
      "outputs": [
        {
          "output_type": "display_data",
          "data": {
            "text/plain": [
              "<Figure size 864x576 with 16 Axes>"
            ],
            "image/png": "[encoded data removed]"
          },
          "metadata": {
            "needs_background": "light"
          }
        }
      ]
    },
    {
      "cell_type": "code",
      "source": [
        "from sklearn.model_selection import StratifiedShuffleSplit\n",
        "\n",
        "split = StratifiedShuffleSplit(n_splits=1, test_size=0.2, random_state=42)\n",
        "for train_index, test_index in split.split(credit, credit[\"default\"]):\n",
        "  strat_train_set = credit.loc[train_index]\n",
        "  strat_test_set = credit.loc[test_index]"
      ],
      "metadata": {
        "id": "J0wHB_EWncM7"
      },
      "execution_count": null,
      "outputs": []
    },
    {
      "cell_type": "code",
      "source": [
        "credit = strat_train_set.copy()"
      ],
      "metadata": {
        "id": "sNBUt756nopC"
      },
      "execution_count": null,
      "outputs": []
    },
    {
      "cell_type": "code",
      "source": [
        "strat_test_set[\"default\"].value_counts()/len(strat_test_set)"
      ],
      "metadata": {
        "colab": {
          "base_uri": "https://localhost:8080/"
        },
        "id": "qbYSI4h7nb_d",
        "outputId": "5d1ed14e-6bc3-46ae-8559-2a585620f2b3"
      },
      "execution_count": null,
      "outputs": [
        {
          "output_type": "execute_result",
          "data": {
            "text/plain": [
              "1    0.7\n",
              "0    0.3\n",
              "Name: default, dtype: float64"
            ]
          },
          "metadata": {},
          "execution_count": 60
        }
      ]
    },
    {
      "cell_type": "code",
      "source": [
        "credit = strat_train_set.drop(\"default\", axis=1)\n",
        "credit_labels = strat_train_set[\"default\"].copy()"
      ],
      "metadata": {
        "id": "vvuEzUwbqwzY"
      },
      "execution_count": null,
      "outputs": []
    },
    {
      "cell_type": "code",
      "source": [
        "credit.head()"
      ],
      "metadata": {
        "colab": {
          "base_uri": "https://localhost:8080/",
          "height": 206
        },
        "id": "YuG3We63j3OI",
        "outputId": "daa39822-7927-48f3-98d7-daac40d78f59"
      },
      "execution_count": null,
      "outputs": [
        {
          "output_type": "execute_result",
          "data": {
            "text/plain": [
              "     balance  duration  prev_pay  purpose  credit  savings  cur_emp  rate  \\\n",
              "485        4         9         4        9       8        1        3     3   \n",
              "510        4         9         4        0       7        3        3     1   \n",
              "7          1         9         4        0       8        1        2     2   \n",
              "630        1         8         4        2       8        1        3     4   \n",
              "590        1         9         2        2       7        1        3     2   \n",
              "\n",
              "     ms/s  guarantors  liv_plac  asset  age  fur_cred  home  no_cred  \\\n",
              "485     1           1         2      1    2         3     2        2   \n",
              "510     4           1         2      3    1         3     2        1   \n",
              "7       3           1         4      1    3         3     2        1   \n",
              "630     2           1         3      2    1         3     1        2   \n",
              "590     3           1         2      1    2         3     2        1   \n",
              "\n",
              "     occupation  people  telephone  frgn  \n",
              "485           3       1          0     1  \n",
              "510           3       1          0     1  \n",
              "7             2       2          0     0  \n",
              "630           3       1          0     1  \n",
              "590           3       1          0     1  "
            ],
            "text/html": [
              "\n",
              "  <div id=\"df-c52e25fc-e7ca-4cc7-b977-f22818b60391\">\n",
              "    <div class=\"colab-df-container\">\n",
              "      <div>\n",
              "<style scoped>\n",
              "    .dataframe tbody tr th:only-of-type {\n",
              "        vertical-align: middle;\n",
              "    }\n",
              "\n",
              "    .dataframe tbody tr th {\n",
              "        vertical-align: top;\n",
              "    }\n",
              "\n",
              "    .dataframe thead th {\n",
              "        text-align: right;\n",
              "    }\n",
              "</style>\n",
              "<table border=\"1\" class=\"dataframe\">\n",
              "  <thead>\n",
              "    <tr style=\"text-align: right;\">\n",
              "      <th></th>\n",
              "      <th>balance</th>\n",
              "      <th>duration</th>\n",
              "      <th>prev_pay</th>\n",
              "      <th>purpose</th>\n",
              "      <th>credit</th>\n",
              "      <th>savings</th>\n",
              "      <th>cur_emp</th>\n",
              "      <th>rate</th>\n",
              "      <th>ms/s</th>\n",
              "      <th>guarantors</th>\n",
              "      <th>liv_plac</th>\n",
              "      <th>asset</th>\n",
              "      <th>age</th>\n",
              "      <th>fur_cred</th>\n",
              "      <th>home</th>\n",
              "      <th>no_cred</th>\n",
              "      <th>occupation</th>\n",
              "      <th>people</th>\n",
              "      <th>telephone</th>\n",
              "      <th>frgn</th>\n",
              "    </tr>\n",
              "  </thead>\n",
              "  <tbody>\n",
              "    <tr>\n",
              "      <th>485</th>\n",
              "      <td>4</td>\n",
              "      <td>9</td>\n",
              "      <td>4</td>\n",
              "      <td>9</td>\n",
              "      <td>8</td>\n",
              "      <td>1</td>\n",
              "      <td>3</td>\n",
              "      <td>3</td>\n",
              "      <td>1</td>\n",
              "      <td>1</td>\n",
              "      <td>2</td>\n",
              "      <td>1</td>\n",
              "      <td>2</td>\n",
              "      <td>3</td>\n",
              "      <td>2</td>\n",
              "      <td>2</td>\n",
              "      <td>3</td>\n",
              "      <td>1</td>\n",
              "      <td>0</td>\n",
              "      <td>1</td>\n",
              "    </tr>\n",
              "    <tr>\n",
              "      <th>510</th>\n",
              "      <td>4</td>\n",
              "      <td>9</td>\n",
              "      <td>4</td>\n",
              "      <td>0</td>\n",
              "      <td>7</td>\n",
              "      <td>3</td>\n",
              "      <td>3</td>\n",
              "      <td>1</td>\n",
              "      <td>4</td>\n",
              "      <td>1</td>\n",
              "      <td>2</td>\n",
              "      <td>3</td>\n",
              "      <td>1</td>\n",
              "      <td>3</td>\n",
              "      <td>2</td>\n",
              "      <td>1</td>\n",
              "      <td>3</td>\n",
              "      <td>1</td>\n",
              "      <td>0</td>\n",
              "      <td>1</td>\n",
              "    </tr>\n",
              "    <tr>\n",
              "      <th>7</th>\n",
              "      <td>1</td>\n",
              "      <td>9</td>\n",
              "      <td>4</td>\n",
              "      <td>0</td>\n",
              "      <td>8</td>\n",
              "      <td>1</td>\n",
              "      <td>2</td>\n",
              "      <td>2</td>\n",
              "      <td>3</td>\n",
              "      <td>1</td>\n",
              "      <td>4</td>\n",
              "      <td>1</td>\n",
              "      <td>3</td>\n",
              "      <td>3</td>\n",
              "      <td>2</td>\n",
              "      <td>1</td>\n",
              "      <td>2</td>\n",
              "      <td>2</td>\n",
              "      <td>0</td>\n",
              "      <td>0</td>\n",
              "    </tr>\n",
              "    <tr>\n",
              "      <th>630</th>\n",
              "      <td>1</td>\n",
              "      <td>8</td>\n",
              "      <td>4</td>\n",
              "      <td>2</td>\n",
              "      <td>8</td>\n",
              "      <td>1</td>\n",
              "      <td>3</td>\n",
              "      <td>4</td>\n",
              "      <td>2</td>\n",
              "      <td>1</td>\n",
              "      <td>3</td>\n",
              "      <td>2</td>\n",
              "      <td>1</td>\n",
              "      <td>3</td>\n",
              "      <td>1</td>\n",
              "      <td>2</td>\n",
              "      <td>3</td>\n",
              "      <td>1</td>\n",
              "      <td>0</td>\n",
              "      <td>1</td>\n",
              "    </tr>\n",
              "    <tr>\n",
              "      <th>590</th>\n",
              "      <td>1</td>\n",
              "      <td>9</td>\n",
              "      <td>2</td>\n",
              "      <td>2</td>\n",
              "      <td>7</td>\n",
              "      <td>1</td>\n",
              "      <td>3</td>\n",
              "      <td>2</td>\n",
              "      <td>3</td>\n",
              "      <td>1</td>\n",
              "      <td>2</td>\n",
              "      <td>1</td>\n",
              "      <td>2</td>\n",
              "      <td>3</td>\n",
              "      <td>2</td>\n",
              "      <td>1</td>\n",
              "      <td>3</td>\n",
              "      <td>1</td>\n",
              "      <td>0</td>\n",
              "      <td>1</td>\n",
              "    </tr>\n",
              "  </tbody>\n",
              "</table>\n",
              "</div>\n",
              "      <button class=\"colab-df-convert\" onclick=\"convertToInteractive('df-c52e25fc-e7ca-4cc7-b977-f22818b60391')\"\n",
              "              title=\"Convert this dataframe to an interactive table.\"\n",
              "              style=\"display:none;\">\n",
              "        \n",
              "  <svg xmlns=\"http://www.w3.org/2000/svg\" height=\"24px\"viewBox=\"0 0 24 24\"\n",
              "       width=\"24px\">\n",
              "    <path d=\"M0 0h24v24H0V0z\" fill=\"none\"/>\n",
              "    <path d=\"M18.56 5.44l.94 2.06.94-2.06 2.06-.94-2.06-.94-.94-2.06-.94 2.06-2.06.94zm-11 1L8.5 8.5l.94-2.06 2.06-.94-2.06-.94L8.5 2.5l-.94 2.06-2.06.94zm10 10l.94 2.06.94-2.06 2.06-.94-2.06-.94-.94-2.06-.94 2.06-2.06.94z\"/><path d=\"M17.41 7.96l-1.37-1.37c-.4-.4-.92-.59-1.43-.59-.52 0-1.04.2-1.43.59L10.3 9.45l-7.72 7.72c-.78.78-.78 2.05 0 2.83L4 21.41c.39.39.9.59 1.41.59.51 0 1.02-.2 1.41-.59l7.78-7.78 2.81-2.81c.8-.78.8-2.07 0-2.86zM5.41 20L4 18.59l7.72-7.72 1.47 1.35L5.41 20z\"/>\n",
              "  </svg>\n",
              "      </button>\n",
              "      \n",
              "  <style>\n",
              "    .colab-df-container {\n",
              "      display:flex;\n",
              "      flex-wrap:wrap;\n",
              "      gap: 12px;\n",
              "    }\n",
              "\n",
              "    .colab-df-convert {\n",
              "      background-color: #E8F0FE;\n",
              "      border: none;\n",
              "      border-radius: 50%;\n",
              "      cursor: pointer;\n",
              "      display: none;\n",
              "      fill: #1967D2;\n",
              "      height: 32px;\n",
              "      padding: 0 0 0 0;\n",
              "      width: 32px;\n",
              "    }\n",
              "\n",
              "    .colab-df-convert:hover {\n",
              "      background-color: #E2EBFA;\n",
              "      box-shadow: 0px 1px 2px rgba(60, 64, 67, 0.3), 0px 1px 3px 1px rgba(60, 64, 67, 0.15);\n",
              "      fill: #174EA6;\n",
              "    }\n",
              "\n",
              "    [theme=dark] .colab-df-convert {\n",
              "      background-color: #3B4455;\n",
              "      fill: #D2E3FC;\n",
              "    }\n",
              "\n",
              "    [theme=dark] .colab-df-convert:hover {\n",
              "      background-color: #434B5C;\n",
              "      box-shadow: 0px 1px 3px 1px rgba(0, 0, 0, 0.15);\n",
              "      filter: drop-shadow(0px 1px 2px rgba(0, 0, 0, 0.3));\n",
              "      fill: #FFFFFF;\n",
              "    }\n",
              "  </style>\n",
              "\n",
              "      <script>\n",
              "        const buttonEl =\n",
              "          document.querySelector('#df-c52e25fc-e7ca-4cc7-b977-f22818b60391 button.colab-df-convert');\n",
              "        buttonEl.style.display =\n",
              "          google.colab.kernel.accessAllowed ? 'block' : 'none';\n",
              "\n",
              "        async function convertToInteractive(key) {\n",
              "          const element = document.querySelector('#df-c52e25fc-e7ca-4cc7-b977-f22818b60391');\n",
              "          const dataTable =\n",
              "            await google.colab.kernel.invokeFunction('convertToInteractive',\n",
              "                                                     [key], {});\n",
              "          if (!dataTable) return;\n",
              "\n",
              "          const docLinkHtml = 'Like what you see? Visit the ' +\n",
              "            '<a target=\"_blank\" href=https://colab.research.google.com/notebooks/data_table.ipynb>data table notebook</a>'\n",
              "            + ' to learn more about interactive tables.';\n",
              "          element.innerHTML = '';\n",
              "          dataTable['output_type'] = 'display_data';\n",
              "          await google.colab.output.renderOutput(dataTable, element);\n",
              "          const docLink = document.createElement('div');\n",
              "          docLink.innerHTML = docLinkHtml;\n",
              "          element.appendChild(docLink);\n",
              "        }\n",
              "      </script>\n",
              "    </div>\n",
              "  </div>\n",
              "  "
            ]
          },
          "metadata": {},
          "execution_count": 62
        }
      ]
    },
    {
      "cell_type": "code",
      "source": [
        "credit_labels.head()"
      ],
      "metadata": {
        "id": "_JCNz37EkAJs",
        "outputId": "09f64884-777a-41da-b8ea-f40299c8131e",
        "colab": {
          "base_uri": "https://localhost:8080/"
        }
      },
      "execution_count": null,
      "outputs": [
        {
          "output_type": "execute_result",
          "data": {
            "text/plain": [
              "485    1\n",
              "510    1\n",
              "7      1\n",
              "630    1\n",
              "590    1\n",
              "Name: default, dtype: int64"
            ]
          },
          "metadata": {},
          "execution_count": 63
        }
      ]
    },
    {
      "cell_type": "code",
      "source": [
        "from sklearn.linear_model import LinearRegression\n",
        "lin_reg = LinearRegression()\n",
        "lin_reg.fit(credit, credit_labels)"
      ],
      "metadata": {
        "colab": {
          "base_uri": "https://localhost:8080/"
        },
        "id": "GPRX8IzTqw20",
        "outputId": "6137cf57-c2fa-4586-cc1e-69b5c84a1536"
      },
      "execution_count": null,
      "outputs": [
        {
          "output_type": "execute_result",
          "data": {
            "text/plain": [
              "LinearRegression()"
            ]
          },
          "metadata": {},
          "execution_count": 64
        }
      ]
    },
    {
      "cell_type": "markdown",
      "source": [
        "$\\displaystyle \\operatorname {RMSE} ={\\sqrt {\\frac {\\sum _{t=1}^{m}({\\hat {y}}_{t}-y_{t})^{2}}{m}}}$"
      ],
      "metadata": {
        "id": "8UvnVxkJ4pq3"
      }
    },
    {
      "cell_type": "code",
      "source": [
        "some_data = credit.iloc[:5]\n",
        "some_labels = credit_labels.iloc[:5]\n",
        "print(\"Forecast: \", lin_reg.predict(some_data))\n",
        "print(\"Labels: \", list(some_labels))"
      ],
      "metadata": {
        "colab": {
          "base_uri": "https://localhost:8080/"
        },
        "id": "olRYkjSBqw6k",
        "outputId": "42b27266-2f3d-4556-d43c-c4460a9a510b"
      },
      "execution_count": null,
      "outputs": [
        {
          "output_type": "stream",
          "name": "stdout",
          "text": [
            "Forecast:  [0.95085819 1.10932138 0.88667367 0.46110001 0.62505808]\n",
            "Labels:  [1, 1, 1, 1, 1]\n"
          ]
        }
      ]
    },
    {
      "cell_type": "code",
      "source": [
        "from sklearn.metrics import mean_squared_error\n",
        "credit_predictions = lin_reg.predict(credit)\n",
        "lin_mse = mean_squared_error(credit_labels, credit_predictions)\n",
        "lin_rmse = np.sqrt(lin_mse)\n",
        "lin_rmse"
      ],
      "metadata": {
        "colab": {
          "base_uri": "https://localhost:8080/"
        },
        "id": "QuW-X6-aqw-B",
        "outputId": "82b770b7-a317-423d-e7cd-20c782f802d0"
      },
      "execution_count": null,
      "outputs": [
        {
          "output_type": "execute_result",
          "data": {
            "text/plain": [
              "0.40428323317560044"
            ]
          },
          "metadata": {},
          "execution_count": 66
        }
      ]
    },
    {
      "cell_type": "code",
      "source": [
        "from sklearn.tree import DecisionTreeRegressor"
      ],
      "metadata": {
        "id": "82ACX63otcAE"
      },
      "execution_count": null,
      "outputs": []
    },
    {
      "cell_type": "code",
      "source": [
        "tree_reg = DecisionTreeRegressor()\n",
        "tree_reg.fit(credit, credit_labels)"
      ],
      "metadata": {
        "colab": {
          "base_uri": "https://localhost:8080/"
        },
        "id": "MNE0GCdotcDd",
        "outputId": "157f2869-983f-4eba-e1d8-13759c290c76"
      },
      "execution_count": null,
      "outputs": [
        {
          "output_type": "execute_result",
          "data": {
            "text/plain": [
              "DecisionTreeRegressor()"
            ]
          },
          "metadata": {},
          "execution_count": 68
        }
      ]
    },
    {
      "cell_type": "code",
      "source": [
        "credit_predictions_tree = tree_reg.predict(credit)\n",
        "tree_mse = mean_squared_error(credit_labels, credit_predictions_tree)\n",
        "tree_rmse = np.sqrt(tree_mse)\n",
        "tree_rmse"
      ],
      "metadata": {
        "colab": {
          "base_uri": "https://localhost:8080/"
        },
        "id": "AGzy2SbctcGy",
        "outputId": "c26e3ca3-1f65-42e9-feb2-3d41ab7eb9b9"
      },
      "execution_count": null,
      "outputs": [
        {
          "output_type": "execute_result",
          "data": {
            "text/plain": [
              "0.0"
            ]
          },
          "metadata": {},
          "execution_count": 69
        }
      ]
    },
    {
      "cell_type": "code",
      "source": [
        "from sklearn.model_selection import cross_val_score\n",
        "scores = cross_val_score(tree_reg, credit, credit_labels, \n",
        "                         scoring=\"neg_mean_squared_error\", cv=10)\n",
        "tree_rmse_scores = np.sqrt(-scores)"
      ],
      "metadata": {
        "id": "sVco_ugKtcKO"
      },
      "execution_count": null,
      "outputs": []
    },
    {
      "cell_type": "code",
      "source": [
        "def display_scores(scores):\n",
        "  print(\"Scores: \", scores)\n",
        "  print(\"Mean: \", scores.mean())\n",
        "  print(\"SD: \", scores.std())\n",
        "display_scores(tree_rmse_scores)"
      ],
      "metadata": {
        "colab": {
          "base_uri": "https://localhost:8080/"
        },
        "id": "PdfLCZ7HtcNk",
        "outputId": "5d9cc48c-cd0a-4d02-bcc6-fa3db369ec76"
      },
      "execution_count": null,
      "outputs": [
        {
          "output_type": "stream",
          "name": "stdout",
          "text": [
            "Scores:  [0.57008771 0.57008771 0.5809475  0.60207973 0.57008771 0.52440442\n",
            " 0.52440442 0.698212   0.53619026 0.57008771]\n",
            "Mean:  0.5746589196165781\n",
            "SD:  0.04761434768120929\n"
          ]
        }
      ]
    },
    {
      "cell_type": "code",
      "source": [
        "from sklearn.ensemble import RandomForestRegressor"
      ],
      "metadata": {
        "id": "f4Ps5TW-tcRM"
      },
      "execution_count": null,
      "outputs": []
    },
    {
      "cell_type": "code",
      "source": [
        "forest_reg = RandomForestRegressor()\n",
        "forest_reg.fit(credit, credit_labels)\n",
        "forest_predictions = forest_reg.predict(credit)\n",
        "forest_mse = mean_squared_error(credit_labels, forest_predictions)\n",
        "forest_rmse = np.sqrt(forest_mse)\n",
        "forest_rmse"
      ],
      "metadata": {
        "colab": {
          "base_uri": "https://localhost:8080/"
        },
        "id": "snLmuXgSvtvV",
        "outputId": "52161a49-a2b5-47c5-d707-3bbe7a4e0af0"
      },
      "execution_count": null,
      "outputs": [
        {
          "output_type": "execute_result",
          "data": {
            "text/plain": [
              "0.15311474455453333"
            ]
          },
          "metadata": {},
          "execution_count": 73
        }
      ]
    },
    {
      "cell_type": "code",
      "source": [
        "scores = cross_val_score(forest_reg, credit, credit_labels, \n",
        "                         scoring=\"neg_mean_squared_error\", cv=10)\n",
        "forest_rmse_scores = np.sqrt(-scores)\n",
        "display_scores(forest_rmse_scores)"
      ],
      "metadata": {
        "colab": {
          "base_uri": "https://localhost:8080/"
        },
        "id": "o7Rscvdzvt26",
        "outputId": "e13897bd-82af-4e72-8b1e-4b1f9302a96c"
      },
      "execution_count": null,
      "outputs": [
        {
          "output_type": "stream",
          "name": "stdout",
          "text": [
            "Scores:  [0.41693675 0.43146553 0.4090492  0.40968586 0.39739936 0.34955865\n",
            " 0.41632169 0.48496134 0.39839208 0.39562767]\n",
            "Mean:  0.4109398113764803\n",
            "SD:  0.03211458276021642\n"
          ]
        }
      ]
    },
    {
      "cell_type": "code",
      "source": [
        "from sklearn.model_selection import GridSearchCV"
      ],
      "metadata": {
        "id": "U21IM2qavt6W"
      },
      "execution_count": null,
      "outputs": []
    },
    {
      "cell_type": "code",
      "source": [
        "param_grid = [\n",
        "    {'n_estimators': [3, 10, 30], 'max_features': [i for i in range(1, 21)]},\n",
        "    {'bootstrap': [False], 'n_estimators': [3, 10], 'max_features': [i for i in range (2, 21, 2)]},\n",
        "]\n",
        "\n",
        "forest_reg = RandomForestRegressor()\n",
        "\n",
        "grid_search = GridSearchCV(forest_reg, param_grid, cv=5,\n",
        "                           scoring='neg_mean_squared_error',\n",
        "                           return_train_score=True)\n",
        "\n",
        "grid_search.fit(credit, credit_labels)"
      ],
      "metadata": {
        "colab": {
          "base_uri": "https://localhost:8080/"
        },
        "id": "apSaPFckyN-P",
        "outputId": "9086f93c-1c80-4ba2-b3d1-bfd93ae5a795"
      },
      "execution_count": null,
      "outputs": [
        {
          "output_type": "execute_result",
          "data": {
            "text/plain": [
              "GridSearchCV(cv=5, estimator=RandomForestRegressor(),\n",
              "             param_grid=[{'max_features': [1, 2, 3, 4, 5, 6, 7, 8, 9, 10, 11,\n",
              "                                           12, 13, 14, 15, 16, 17, 18, 19, 20],\n",
              "                          'n_estimators': [3, 10, 30]},\n",
              "                         {'bootstrap': [False],\n",
              "                          'max_features': [2, 4, 6, 8, 10, 12, 14, 16, 18, 20],\n",
              "                          'n_estimators': [3, 10]}],\n",
              "             return_train_score=True, scoring='neg_mean_squared_error')"
            ]
          },
          "metadata": {},
          "execution_count": 88
        }
      ]
    },
    {
      "cell_type": "code",
      "source": [
        "grid_search.best_estimator_"
      ],
      "metadata": {
        "colab": {
          "base_uri": "https://localhost:8080/"
        },
        "id": "RFYvMlqVyOBn",
        "outputId": "1ec2a745-da02-4fc8-f1c9-a20a37bd3508"
      },
      "execution_count": null,
      "outputs": [
        {
          "output_type": "execute_result",
          "data": {
            "text/plain": [
              "RandomForestRegressor(max_features=6, n_estimators=30)"
            ]
          },
          "metadata": {},
          "execution_count": 89
        }
      ]
    },
    {
      "cell_type": "code",
      "source": [
        "cvres = grid_search.cv_results_\n",
        "for mean_score, params in zip(cvres[\"mean_test_score\"], cvres[\"params\"]):\n",
        "  print(np.sqrt(-mean_score), params)"
      ],
      "metadata": {
        "colab": {
          "base_uri": "https://localhost:8080/"
        },
        "id": "c6vWkqwfz6ot",
        "outputId": "5ffc8405-dd73-429c-b3f4-6c75428b06b8"
      },
      "execution_count": null,
      "outputs": [
        {
          "output_type": "stream",
          "name": "stdout",
          "text": [
            "0.49581582602145063 {'max_features': 1, 'n_estimators': 3}\n",
            "0.43518674152597986 {'max_features': 1, 'n_estimators': 10}\n",
            "0.4244702580864766 {'max_features': 1, 'n_estimators': 30}\n",
            "0.4788585966186214 {'max_features': 2, 'n_estimators': 3}\n",
            "0.436033255612459 {'max_features': 2, 'n_estimators': 10}\n",
            "0.41535292891173353 {'max_features': 2, 'n_estimators': 30}\n",
            "0.48030661503298544 {'max_features': 3, 'n_estimators': 3}\n",
            "0.4346262762420146 {'max_features': 3, 'n_estimators': 10}\n",
            "0.419240384505119 {'max_features': 3, 'n_estimators': 30}\n",
            "0.462481230850387 {'max_features': 4, 'n_estimators': 3}\n",
            "0.4258814389005466 {'max_features': 4, 'n_estimators': 10}\n",
            "0.418791250041248 {'max_features': 4, 'n_estimators': 30}\n",
            "0.48333333333333334 {'max_features': 5, 'n_estimators': 3}\n",
            "0.43107423954581187 {'max_features': 5, 'n_estimators': 10}\n",
            "0.4203801189928521 {'max_features': 5, 'n_estimators': 30}\n",
            "0.494694069321861 {'max_features': 6, 'n_estimators': 3}\n",
            "0.43357525298383903 {'max_features': 6, 'n_estimators': 10}\n",
            "0.41252946022745524 {'max_features': 6, 'n_estimators': 30}\n",
            "0.48146189418847635 {'max_features': 7, 'n_estimators': 3}\n",
            "0.4311032358959974 {'max_features': 7, 'n_estimators': 10}\n",
            "0.42092985691733065 {'max_features': 7, 'n_estimators': 30}\n",
            "0.4945536708319263 {'max_features': 8, 'n_estimators': 3}\n",
            "0.4253968735193055 {'max_features': 8, 'n_estimators': 10}\n",
            "0.41978996070786534 {'max_features': 8, 'n_estimators': 30}\n",
            "0.469041575982343 {'max_features': 9, 'n_estimators': 3}\n",
            "0.4326661530556787 {'max_features': 9, 'n_estimators': 10}\n",
            "0.4191674950290026 {'max_features': 9, 'n_estimators': 30}\n",
            "0.469041575982343 {'max_features': 10, 'n_estimators': 3}\n",
            "0.4256318832042544 {'max_features': 10, 'n_estimators': 10}\n",
            "0.4179247672860644 {'max_features': 10, 'n_estimators': 30}\n",
            "0.4703721930556695 {'max_features': 11, 'n_estimators': 3}\n",
            "0.4313786040127628 {'max_features': 11, 'n_estimators': 10}\n",
            "0.4198594341496264 {'max_features': 11, 'n_estimators': 30}\n",
            "0.4702245326555295 {'max_features': 12, 'n_estimators': 3}\n",
            "0.42877733149036695 {'max_features': 12, 'n_estimators': 10}\n",
            "0.4213684716360361 {'max_features': 12, 'n_estimators': 30}\n",
            "0.4712571838532898 {'max_features': 13, 'n_estimators': 3}\n",
            "0.4348275520249378 {'max_features': 13, 'n_estimators': 10}\n",
            "0.41793307545055053 {'max_features': 13, 'n_estimators': 30}\n",
            "0.46472811645328954 {'max_features': 14, 'n_estimators': 3}\n",
            "0.4407805576474534 {'max_features': 14, 'n_estimators': 10}\n",
            "0.42175394353685525 {'max_features': 14, 'n_estimators': 30}\n",
            "0.48203849546598576 {'max_features': 15, 'n_estimators': 3}\n",
            "0.4248676264438137 {'max_features': 15, 'n_estimators': 10}\n",
            "0.41601448959808546 {'max_features': 15, 'n_estimators': 30}\n",
            "0.45338235029118146 {'max_features': 16, 'n_estimators': 3}\n",
            "0.43856299433490736 {'max_features': 16, 'n_estimators': 10}\n",
            "0.419890858835166 {'max_features': 16, 'n_estimators': 30}\n",
            "0.46844897741850655 {'max_features': 17, 'n_estimators': 3}\n",
            "0.436033255612459 {'max_features': 17, 'n_estimators': 10}\n",
            "0.4234071457959952 {'max_features': 17, 'n_estimators': 30}\n",
            "0.47827816174272486 {'max_features': 18, 'n_estimators': 3}\n",
            "0.43528726147223745 {'max_features': 18, 'n_estimators': 10}\n",
            "0.42009919463542583 {'max_features': 18, 'n_estimators': 30}\n",
            "0.4708148963941845 {'max_features': 19, 'n_estimators': 3}\n",
            "0.44232341109192946 {'max_features': 19, 'n_estimators': 10}\n",
            "0.4221209673909969 {'max_features': 19, 'n_estimators': 30}\n",
            "0.4755114205895702 {'max_features': 20, 'n_estimators': 3}\n",
            "0.4301743832447488 {'max_features': 20, 'n_estimators': 10}\n",
            "0.4256465670013092 {'max_features': 20, 'n_estimators': 30}\n",
            "0.4693375946776242 {'bootstrap': False, 'max_features': 2, 'n_estimators': 3}\n",
            "0.4236891549237483 {'bootstrap': False, 'max_features': 2, 'n_estimators': 10}\n",
            "0.48247049420433763 {'bootstrap': False, 'max_features': 4, 'n_estimators': 3}\n",
            "0.42693676346737813 {'bootstrap': False, 'max_features': 4, 'n_estimators': 10}\n",
            "0.4805956951765405 {'bootstrap': False, 'max_features': 6, 'n_estimators': 3}\n",
            "0.4371069663137388 {'bootstrap': False, 'max_features': 6, 'n_estimators': 10}\n",
            "0.4820384954659857 {'bootstrap': False, 'max_features': 8, 'n_estimators': 3}\n",
            "0.4412198998232061 {'bootstrap': False, 'max_features': 8, 'n_estimators': 10}\n",
            "0.47900359543999715 {'bootstrap': False, 'max_features': 10, 'n_estimators': 3}\n",
            "0.45585085280165927 {'bootstrap': False, 'max_features': 10, 'n_estimators': 10}\n",
            "0.4893306085301067 {'bootstrap': False, 'max_features': 12, 'n_estimators': 3}\n",
            "0.44357919247863736 {'bootstrap': False, 'max_features': 12, 'n_estimators': 10}\n",
            "0.4897561751638371 {'bootstrap': False, 'max_features': 14, 'n_estimators': 3}\n",
            "0.45615238681826487 {'bootstrap': False, 'max_features': 14, 'n_estimators': 10}\n",
            "0.49483442797678406 {'bootstrap': False, 'max_features': 16, 'n_estimators': 3}\n",
            "0.4690149251356507 {'bootstrap': False, 'max_features': 16, 'n_estimators': 10}\n",
            "0.5084016347556548 {'bootstrap': False, 'max_features': 18, 'n_estimators': 3}\n",
            "0.49597126932918206 {'bootstrap': False, 'max_features': 18, 'n_estimators': 10}\n",
            "0.5477225575051661 {'bootstrap': False, 'max_features': 20, 'n_estimators': 3}\n",
            "0.5406593197199138 {'bootstrap': False, 'max_features': 20, 'n_estimators': 10}\n"
          ]
        }
      ]
    },
    {
      "cell_type": "code",
      "source": [
        "feature_importances = grid_search.best_estimator_.feature_importances_\n",
        "feature_importances"
      ],
      "metadata": {
        "id": "DkAgfGCZz6sF",
        "colab": {
          "base_uri": "https://localhost:8080/"
        },
        "outputId": "339df2a5-eba5-4c49-a40c-32a19ab59700"
      },
      "execution_count": null,
      "outputs": [
        {
          "output_type": "execute_result",
          "data": {
            "text/plain": [
              "array([0.13280541, 0.08606237, 0.06417291, 0.07153467, 0.0664511 ,\n",
              "       0.06100674, 0.06031886, 0.05367602, 0.04755012, 0.02952871,\n",
              "       0.04982347, 0.06033711, 0.04567045, 0.02695323, 0.03032573,\n",
              "       0.02543832, 0.04141268, 0.01663289, 0.02594428, 0.00435494])"
            ]
          },
          "metadata": {},
          "execution_count": 91
        }
      ]
    },
    {
      "cell_type": "code",
      "source": [
        "sorted(zip(feature_importances, credit.columns), reverse=True)"
      ],
      "metadata": {
        "colab": {
          "base_uri": "https://localhost:8080/"
        },
        "id": "qXQu_k73kUo-",
        "outputId": "aa650886-4544-426c-c33d-3200f8cb903e"
      },
      "execution_count": null,
      "outputs": [
        {
          "output_type": "execute_result",
          "data": {
            "text/plain": [
              "[(0.13280540629410564, 'balance'),\n",
              " (0.08606236663243048, 'duration'),\n",
              " (0.07153467459767424, 'purpose'),\n",
              " (0.06645109929389471, 'credit'),\n",
              " (0.0641729138909272, 'prev_pay'),\n",
              " (0.061006743914072056, 'savings'),\n",
              " (0.06033710903834093, 'asset'),\n",
              " (0.060318863996666416, 'cur_emp'),\n",
              " (0.053676021743358324, 'rate'),\n",
              " (0.04982346531720178, 'liv_plac'),\n",
              " (0.04755011641370695, 'ms/s'),\n",
              " (0.04567045118538383, 'age'),\n",
              " (0.041412683478739595, 'occupation'),\n",
              " (0.030325729001153323, 'home'),\n",
              " (0.029528706023047937, 'guarantors'),\n",
              " (0.02695322930225012, 'fur_cred'),\n",
              " (0.02594427725248745, 'telephone'),\n",
              " (0.025438320381968582, 'no_cred'),\n",
              " (0.01663288627853888, 'people'),\n",
              " (0.004354935964051574, 'frgn')]"
            ]
          },
          "metadata": {},
          "execution_count": 92
        }
      ]
    },
    {
      "cell_type": "code",
      "source": [
        "final_model = grid_search.best_estimator_\n",
        "X_test = strat_test_set.drop(\"default\", axis=1)\n",
        "y_test = strat_test_set[\"default\"].copy()\n",
        "\n",
        "final_predictions = final_model.predict(X_test)\n",
        "\n",
        "final_mse = mean_squared_error(y_test, final_predictions)\n",
        "final_rmse = np.sqrt(final_mse)"
      ],
      "metadata": {
        "id": "mnvAEpBNpwNl"
      },
      "execution_count": null,
      "outputs": []
    },
    {
      "cell_type": "code",
      "source": [
        "final_rmse"
      ],
      "metadata": {
        "colab": {
          "base_uri": "https://localhost:8080/"
        },
        "id": "ijC6DWYDkUsm",
        "outputId": "41321403-0bdb-40e3-a370-034993c75f02"
      },
      "execution_count": null,
      "outputs": [
        {
          "output_type": "execute_result",
          "data": {
            "text/plain": [
              "0.38872298048295983"
            ]
          },
          "metadata": {},
          "execution_count": 94
        }
      ]
    },
    {
      "cell_type": "code",
      "source": [
        "from scipy import stats"
      ],
      "metadata": {
        "id": "asGy0PeXqn31"
      },
      "execution_count": null,
      "outputs": []
    },
    {
      "cell_type": "code",
      "source": [
        "confidence = 0.95\n",
        "squared_errors = (final_predictions - y_test) ** 2\n",
        "np.sqrt(stats.t.interval(confidence, len(squared_errors)-1,\n",
        "                         loc=squared_errors.mean(),\n",
        "                         scale=stats.sem(squared_errors)))"
      ],
      "metadata": {
        "colab": {
          "base_uri": "https://localhost:8080/"
        },
        "id": "m6prDTdhqoEP",
        "outputId": "7cf37379-9a40-460a-fb90-6e76e2fcea1d"
      },
      "execution_count": null,
      "outputs": [
        {
          "output_type": "execute_result",
          "data": {
            "text/plain": [
              "array([0.35210566, 0.42217617])"
            ]
          },
          "metadata": {},
          "execution_count": 95
        }
      ]
    }
  ]
}